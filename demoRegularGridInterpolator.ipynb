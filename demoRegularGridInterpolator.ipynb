{
 "cells": [
  {
   "cell_type": "markdown",
   "metadata": {},
   "source": [
    "# Interpolation Methods\n",
    "\n",
    "## LinearNDInterpolator from scipy\n",
    "\n",
    "This has replaced the use of interp2d.  The advice is now to use a different sent of interpolation functions - see https://docs.scipy.org/doc/scipy/reference/generated/scipy.interpolate.interp2d.html.\n",
    "\n",
    "The **RegularGridInterpolator** (or **RGI**) is an alternative which is useful for the general use case I'm expecting.  Other functions can accept unstructred data, but are slower due to additional processing.\n",
    "\n",
    "The RGI accepts data where the axes are monotonically increasing, but the spacing does not have to be even.\n"
   ]
  },
  {
   "cell_type": "code",
   "execution_count": 4,
   "metadata": {},
   "outputs": [
    {
     "name": "stdout",
     "output_type": "stream",
     "text": [
      " \n",
      "x is:  [0, 1, 2, 3, 4]\n",
      "y is:  [0, 2, 3, 4, 5]\n",
      " \n",
      "Z is:  [[1.  1.1 1.2 1.3 1.4]\n",
      " [2.  2.1 2.2 2.3 2.4]\n",
      " [3.  3.1 3.2 3.3 3.4]\n",
      " [4.  4.1 4.2 4.3 4.4]\n",
      " [5.  5.1 5.2 5.3 5.4]]\n",
      " \n",
      "Interpolated value:  2.05\n"
     ]
    }
   ],
   "source": [
    "# Import the required libraries\n",
    "import numpy as np\n",
    "from scipy.interpolate import RegularGridInterpolator\n",
    "\n",
    "# Define the grid points (x and y)\n",
    "#x = np.linspace(0, 4, 5)  # x-axis grid: [0, 1, 2, 3, 4]\n",
    "#y = np.linspace(0, 4, 5)  # y-axis grid: [0, 1, 2, 3, 4]\n",
    "\n",
    "# Create the 2D grid of data (Z)\n",
    "#X, Y = np.meshgrid(x, y, indexing='ij')\n",
    "#Z = X**2 + Y**2  # Example function: z = x^2 + y^2\n",
    "\n",
    "# Provide the data\n",
    "x = [0, 1, 2, 3, 4]\n",
    "y = [0, 2, 3, 4, 5]\n",
    "\n",
    "Z = np.array([[1, 1.1, 1.2, 1.3, 1.4],\n",
    "              [2, 2.1, 2.2, 2.3, 2.4],\n",
    "              [3, 3.1, 3.2, 3.3, 3.4],\n",
    "              [4, 4.1, 4.2, 4.3, 4.4],\n",
    "              [5, 5.1, 5.2, 5.3, 5.4]])\n",
    "\n",
    "# Define the x & y values where you want to interpolate the data\n",
    "xi = 1\n",
    "yi = 1\n",
    "\n",
    "# Print the data to the command window\n",
    "print(' ')\n",
    "print('x is: ', x)\n",
    "print('y is: ', y)\n",
    "print(' ')\n",
    "print('Z is: ', Z)\n",
    "\n",
    "# You need to create an interpolator object, in this case called RGI\n",
    "RGI = RegularGridInterpolator((x, y), Z, method='linear', bounds_error=False, fill_value=None)\n",
    "\n",
    "# Now use the object to interpolate the data - the points can be input as a tuple, list or numpy array\n",
    "values = RGI((xi, yi))\n",
    "\n",
    "# Output the interpolated values\n",
    "print(' ')\n",
    "print('Interpolated value: ', values)\n"
   ]
  }
 ],
 "metadata": {
  "kernelspec": {
   "display_name": "Python 3",
   "language": "python",
   "name": "python3"
  },
  "language_info": {
   "codemirror_mode": {
    "name": "ipython",
    "version": 3
   },
   "file_extension": ".py",
   "mimetype": "text/x-python",
   "name": "python",
   "nbconvert_exporter": "python",
   "pygments_lexer": "ipython3",
   "version": "3.12.1"
  }
 },
 "nbformat": 4,
 "nbformat_minor": 2
}
